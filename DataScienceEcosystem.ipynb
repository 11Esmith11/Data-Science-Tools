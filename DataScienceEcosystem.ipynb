{
 "cells": [
  {
   "cell_type": "markdown",
   "id": "1899254b-2a55-4722-acd4-29175a3d3382",
   "metadata": {},
   "source": [
    "# Data Science Tools and Ecosystem"
   ]
  },
  {
   "cell_type": "markdown",
   "id": "3541472b-a43c-46b4-bd7a-833890462d41",
   "metadata": {},
   "source": [
    "In this notebook, Data Science tools and Ecosystems are summarized"
   ]
  },
  {
   "cell_type": "markdown",
   "id": "34c083ea-4e8c-4bc1-98fe-956954bcf692",
   "metadata": {},
   "source": [
    "**Objectives:**\n",
    "- Most popular languages in Data Science\n",
    "- Commonly used libraries in Data Science\n",
    "- How Python can assist with solving arithmetic expressions"
   ]
  },
  {
   "cell_type": "markdown",
   "id": "0e221c66-c148-4c1b-bae0-8e42b6305ac2",
   "metadata": {},
   "source": [
    "Some of the most popular languages that Data Scientist use are:\n",
    "1. R \n",
    "2. Python\n",
    "3. SQL (Structurer Query Language)\n",
    "4. Java Script\n",
    "5. C++"
   ]
  },
  {
   "cell_type": "markdown",
   "id": "f3aa8c03-7daa-4428-92f9-df71c0392cc7",
   "metadata": {},
   "source": [
    "Some of the commonly used libraries used by Data Scientists include:\n",
    "1. Pandas\n",
    "2. NumPy\n",
    "3. Matplotlib\n",
    "4. Scikit-learn\n",
    "5. PyTorch"
   ]
  },
  {
   "cell_type": "markdown",
   "id": "dc2a33a8-4a19-44e6-b7f1-dd952bd85ae2",
   "metadata": {},
   "source": [
    "| Data Science Tools |\n",
    "| ------------------ |\n",
    "| Jupyter Notebook |\n",
    "| VSCode (Visual Studio Code) |\n",
    "| Apache Hadoop |\n",
    "| Apache Spark |\n",
    "| RStudio |"
   ]
  },
  {
   "cell_type": "markdown",
   "id": "385171ac-d238-47c1-a157-362b6d88d40e",
   "metadata": {},
   "source": [
    "### Below are a few examples of evaluating arithmetic expressions in Python "
   ]
  },
  {
   "cell_type": "code",
   "execution_count": 2,
   "id": "6dff8417-1469-4bbd-84d2-433ada249aaa",
   "metadata": {},
   "outputs": [
    {
     "data": {
      "text/html": [
       "17"
      ],
      "text/latex": [
       "17"
      ],
      "text/markdown": [
       "17"
      ],
      "text/plain": [
       "[1] 17"
      ]
     },
     "metadata": {},
     "output_type": "display_data"
    }
   ],
   "source": [
    "# This a simple arithmetic expression to multiply then add integers \n",
    "(3*4)+5"
   ]
  },
  {
   "cell_type": "code",
   "execution_count": 3,
   "id": "23b35162-5200-42ed-82b8-993eb7f5df1e",
   "metadata": {},
   "outputs": [
    {
     "data": {
      "text/html": [
       "3.33333333333333"
      ],
      "text/latex": [
       "3.33333333333333"
      ],
      "text/markdown": [
       "3.33333333333333"
      ],
      "text/plain": [
       "[1] 3.333333"
      ]
     },
     "metadata": {},
     "output_type": "display_data"
    }
   ],
   "source": [
    "# This will convert 200 minutes to hours by dividing by 60\n",
    "200/60"
   ]
  },
  {
   "cell_type": "markdown",
   "id": "933ceb49-dbc4-4730-bd56-3df73259e492",
   "metadata": {},
   "source": [
    "## __Author__\n",
    "Emilio Smith"
   ]
  }
 ],
 "metadata": {
  "kernelspec": {
   "display_name": "R",
   "language": "R",
   "name": "ir"
  },
  "language_info": {
   "codemirror_mode": "r",
   "file_extension": ".r",
   "mimetype": "text/x-r-source",
   "name": "R",
   "pygments_lexer": "r",
   "version": "4.4.2"
  }
 },
 "nbformat": 4,
 "nbformat_minor": 5
}
